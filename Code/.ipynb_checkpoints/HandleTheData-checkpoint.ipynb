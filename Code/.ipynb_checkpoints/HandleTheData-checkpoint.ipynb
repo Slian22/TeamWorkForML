{
 "cells": [
  {
   "cell_type": "code",
   "execution_count": null,
   "metadata": {
    "pycharm": {
     "name": "#%%\n"
    }
   },
   "outputs": [],
   "source": [
    "from QuickInit import *\n",
    "import numpy as np\n",
    "import pandas as pd"
   ]
  },
  {
   "cell_type": "code",
   "execution_count": null,
   "metadata": {
    "pycharm": {
     "name": "#%%\n"
    }
   },
   "outputs": [],
   "source": [
    "#One Hot Encode\n",
    "from sklearn.preprocessing import OneHotEncoder\n",
    "Sample_data_Pandas=FillNaN_PD()\n",
    "print(Sample_data_Pandas)\n",
    "\n",
    "Sample_data_Numpy=FillNaN_NP()\n",
    "enc_data=OneHotEncoder()\n",
    "ans=enc_data.fit_transform(Sample_data_Numpy)\n",
    "print(Sample_data_Numpy)"
   ]
  },
  {
   "cell_type": "code",
   "execution_count": null,
   "metadata": {
    "pycharm": {
     "name": "#%%\n"
    }
   },
   "outputs": [],
   "source": [
    "#数值\n",
    "from sklearn.preprocessing import MinMaxScaler\n",
    "scaler=MinMaxScaler()\n",
    "scaler=scaler.fit(Sample_data_Pandas)\n",
    "result=scaler.transform(Sample_data_Pandas)\n",
    "print(result)\n"
   ]
  },
  {
   "cell_type": "code",
   "execution_count": null,
   "metadata": {
    "pycharm": {
     "name": "#%%\n"
    }
   },
   "outputs": [],
   "source": [
    "#StandarLize The Data\n",
    "from sklearn.preprocessing import StandardScaler\n",
    "result_=scaler.inverse_transform(result)\n",
    "scaler_2=StandardScaler()\n",
    "scaler_2.fit(Sample_data_Pandas)\n",
    "print(scaler_2)\n",
    "x_std=scaler_2.transform(result_)\n",
    "print(result_)"
   ]
  },
  {
   "cell_type": "code",
   "execution_count": null,
   "metadata": {
    "pycharm": {
     "is_executing": false,
     "name": "#%%\n"
    }
   },
   "outputs": [],
   "source": [
    "import pandas as pd\n",
    "import numpy as np\n",
    "df = pd.read_csv('sample/model_sample.csv')\n",
    "\n",
    "df = pd.read_csv('sample/model_sample.csv',header=0)\n",
    "id=[]\n",
    "cutoff=0.8\n",
    "for i in [index for index in df]:\n",
    "    id.append(i)\n",
    "    #print(i)\n",
    "print(len(id))\n",
    "Row=len(id)-1\n",
    "col=df.iloc[:,0]\n",
    "arrs=col.values\n",
    "rows_not_null = df.count(axis=1)\n",
    "pd1 = pd.DataFrame(rows_not_null)\n",
    "rows_NotNull = pd.DataFrame(rows_not_null)\n",
    "print(pd1)\n",
    "pd1=pd1.values\n",
    "notnullnum1=int(pd1[0][0])\n",
    "len1=df.shape[0]\n",
    "print(len1)\n",
    "id2=[]\n",
    "for i in (1,len1):\n",
    "    notnullnum1=int(pd1[i-1][0])\n",
    "    print(notnullnum1)\n",
    "    print(Row)\n",
    "    print(notnullnum1)\n",
    "    print((Row-notnullnum1)/Row)\n",
    "    id2.append((Row-notnullnum1)/Row)\n",
    "id2\n",
    "    #if (((Row-notnullnum1)/Row) >cutoff) :\n",
    "       # idNum=arrs[i-1]\n",
    "        #print(idNum)\n",
    "        #df=df.drop([idNum],axis=0,inplace=True)"
   ]
  },
  {
   "cell_type": "code",
   "execution_count": null,
   "metadata": {},
   "outputs": [],
   "source": []
  }
 ],
 "metadata": {
  "kernelspec": {
   "display_name": "Python 3",
   "language": "python",
   "name": "python3"
  },
  "language_info": {
   "codemirror_mode": {
    "name": "ipython",
    "version": 3
   },
   "file_extension": ".py",
   "mimetype": "text/x-python",
   "name": "python",
   "nbconvert_exporter": "python",
   "pygments_lexer": "ipython3",
   "version": "3.8.2"
  },
  "pycharm": {
   "stem_cell": {
    "cell_type": "raw",
    "metadata": {
     "collapsed": false
    },
    "source": []
   }
  }
 },
 "nbformat": 4,
 "nbformat_minor": 1
}
