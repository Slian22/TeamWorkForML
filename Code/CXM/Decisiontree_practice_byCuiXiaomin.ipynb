{
 "cells": [
  {
   "cell_type": "code",
   "execution_count": 15,
   "metadata": {},
   "outputs": [],
   "source": [
    "import numpy as np\n",
    "import pandas as pd \n",
    "from sklearn import tree\n",
    "from sklearn.model_selection import train_test_split\n",
    "import matplotlib.pyplot as plt\n",
    "import graphviz"
   ]
  },
  {
   "cell_type": "code",
   "execution_count": 11,
   "metadata": {},
   "outputs": [
    {
     "name": "stdout",
     "output_type": "stream",
     "text": [
      "      user_id  y  x_001  x_002  x_003  x_004  x_005  x_006  x_007  x_008  ...  \\\n",
      "11015  A21940  0    0.0   23.0      0      0      0      0      0      0  ...   \n",
      "11016  A21941  1    0.0   35.0      0      0      0      0      0      0  ...   \n",
      "\n",
      "       x_190  x_191  x_192  x_193  x_194  x_195  x_196  x_197  x_198  x_199  \n",
      "11015    1.0    0.0    3.0    1.0    5.0    1.0    3.0    1.0    7.0    1.0  \n",
      "11016    1.0    1.0    1.0    1.0    1.0    1.0    1.0    1.0    1.0    1.0  \n",
      "\n",
      "[2 rows x 201 columns]\n"
     ]
    }
   ],
   "source": [
    "raw_data=pd.read_csv('model_sample.csv')#读取csv文件\n",
    "print(raw_data.tail(2)) #打印数据后两行"
   ]
  },
  {
   "cell_type": "code",
   "execution_count": 12,
   "metadata": {},
   "outputs": [
    {
     "name": "stdout",
     "output_type": "stream",
     "text": [
      "['user_id', 'y', 'x_001', 'x_002', 'x_003', 'x_004', 'x_005', 'x_006', 'x_007', 'x_008', 'x_009', 'x_010', 'x_011', 'x_012', 'x_013', 'x_014', 'x_015', 'x_016', 'x_017', 'x_018', 'x_019', 'x_020', 'x_021', 'x_022', 'x_023', 'x_024', 'x_025', 'x_026', 'x_027', 'x_028', 'x_029', 'x_030', 'x_031', 'x_032', 'x_033', 'x_034', 'x_035', 'x_036', 'x_037', 'x_038', 'x_039', 'x_040', 'x_041', 'x_042', 'x_043', 'x_044', 'x_045', 'x_046', 'x_047', 'x_048', 'x_049', 'x_050', 'x_051', 'x_052', 'x_053', 'x_054', 'x_055', 'x_056', 'x_057', 'x_058', 'x_059', 'x_060', 'x_061', 'x_062', 'x_063', 'x_064', 'x_065', 'x_066', 'x_067', 'x_068', 'x_069', 'x_070', 'x_071', 'x_072', 'x_073', 'x_074', 'x_075', 'x_076', 'x_077', 'x_078', 'x_079', 'x_080', 'x_081', 'x_082', 'x_083', 'x_084', 'x_085', 'x_086', 'x_087', 'x_088', 'x_089', 'x_090', 'x_091', 'x_092', 'x_093', 'x_094', 'x_095', 'x_096', 'x_097', 'x_098', 'x_099', 'x_100', 'x_101', 'x_102', 'x_103', 'x_104', 'x_105', 'x_106', 'x_107', 'x_108', 'x_109', 'x_110', 'x_111', 'x_112', 'x_113', 'x_114', 'x_115', 'x_116', 'x_117', 'x_118', 'x_119', 'x_120', 'x_121', 'x_122', 'x_123', 'x_124', 'x_125', 'x_126', 'x_127', 'x_128', 'x_129', 'x_130', 'x_131', 'x_132', 'x_133', 'x_134', 'x_135', 'x_136', 'x_137', 'x_138', 'x_139', 'x_140', 'x_141', 'x_142', 'x_143', 'x_144', 'x_145', 'x_146', 'x_147', 'x_148', 'x_149', 'x_150', 'x_151', 'x_152', 'x_153', 'x_154', 'x_155', 'x_156', 'x_157', 'x_158', 'x_159', 'x_160', 'x_161', 'x_162', 'x_163', 'x_164', 'x_165', 'x_166', 'x_167', 'x_168', 'x_169', 'x_170', 'x_171', 'x_172', 'x_173', 'x_174', 'x_175', 'x_176', 'x_177', 'x_178', 'x_179', 'x_180', 'x_181', 'x_182', 'x_183', 'x_184', 'x_185', 'x_186', 'x_187', 'x_188', 'x_189', 'x_190', 'x_191', 'x_192', 'x_193', 'x_194', 'x_195', 'x_196', 'x_197', 'x_198', 'x_199'] \n",
      "\n"
     ]
    }
   ],
   "source": [
    "print(list(raw_data.columns),\"\\n\")  #输出所有原始列"
   ]
  },
  {
   "cell_type": "code",
   "execution_count": 9,
   "metadata": {},
   "outputs": [],
   "source": [
    "#删除全是空值的列\n",
    "raw_data.dropna(axis=\"columns\",how='all',inplace=True)\n",
    "#raw_data"
   ]
  },
  {
   "cell_type": "code",
   "execution_count": 7,
   "metadata": {},
   "outputs": [],
   "source": [
    "#删除全是空值的行\n",
    "raw_data.dropna(axis=\"index\",how='all',inplace=True)\n",
    "#raw_data"
   ]
  },
  {
   "cell_type": "code",
   "execution_count": 13,
   "metadata": {},
   "outputs": [
    {
     "data": {
      "text/html": [
       "<div>\n",
       "<style scoped>\n",
       "    .dataframe tbody tr th:only-of-type {\n",
       "        vertical-align: middle;\n",
       "    }\n",
       "\n",
       "    .dataframe tbody tr th {\n",
       "        vertical-align: top;\n",
       "    }\n",
       "\n",
       "    .dataframe thead th {\n",
       "        text-align: right;\n",
       "    }\n",
       "</style>\n",
       "<table border=\"1\" class=\"dataframe\">\n",
       "  <thead>\n",
       "    <tr style=\"text-align: right;\">\n",
       "      <th></th>\n",
       "      <th>user_id</th>\n",
       "      <th>y</th>\n",
       "      <th>x_001</th>\n",
       "      <th>x_002</th>\n",
       "      <th>x_003</th>\n",
       "      <th>x_004</th>\n",
       "      <th>x_005</th>\n",
       "      <th>x_006</th>\n",
       "      <th>x_007</th>\n",
       "      <th>x_008</th>\n",
       "      <th>...</th>\n",
       "      <th>x_190</th>\n",
       "      <th>x_191</th>\n",
       "      <th>x_192</th>\n",
       "      <th>x_193</th>\n",
       "      <th>x_194</th>\n",
       "      <th>x_195</th>\n",
       "      <th>x_196</th>\n",
       "      <th>x_197</th>\n",
       "      <th>x_198</th>\n",
       "      <th>x_199</th>\n",
       "    </tr>\n",
       "  </thead>\n",
       "  <tbody>\n",
       "  </tbody>\n",
       "</table>\n",
       "<p>0 rows × 201 columns</p>\n",
       "</div>"
      ],
      "text/plain": [
       "Empty DataFrame\n",
       "Columns: [user_id, y, x_001, x_002, x_003, x_004, x_005, x_006, x_007, x_008, x_009, x_010, x_011, x_012, x_013, x_014, x_015, x_016, x_017, x_018, x_019, x_020, x_021, x_022, x_023, x_024, x_025, x_026, x_027, x_028, x_029, x_030, x_031, x_032, x_033, x_034, x_035, x_036, x_037, x_038, x_039, x_040, x_041, x_042, x_043, x_044, x_045, x_046, x_047, x_048, x_049, x_050, x_051, x_052, x_053, x_054, x_055, x_056, x_057, x_058, x_059, x_060, x_061, x_062, x_063, x_064, x_065, x_066, x_067, x_068, x_069, x_070, x_071, x_072, x_073, x_074, x_075, x_076, x_077, x_078, x_079, x_080, x_081, x_082, x_083, x_084, x_085, x_086, x_087, x_088, x_089, x_090, x_091, x_092, x_093, x_094, x_095, x_096, x_097, x_098, ...]\n",
       "Index: []\n",
       "\n",
       "[0 rows x 201 columns]"
      ]
     },
     "execution_count": 13,
     "metadata": {},
     "output_type": "execute_result"
    }
   ],
   "source": [
    "raw_data.dropna()  #发现没有一行数据是全空的"
   ]
  },
  {
   "cell_type": "code",
   "execution_count": 15,
   "metadata": {},
   "outputs": [],
   "source": [
    "def deleteTheCol(cutoff=0.5,file,outfile):\n",
    "    #运行这个函数即为自定义删除缺失为（cutoff*100）%的列\n",
    "    import pandas as pd\n",
    "    import os\n",
    "    inputfile=file\n",
    "    df=pd.read_csv(inputfile)\n",
    "    for i in  [column for column in df]:\n",
    "        n = len(df)\n",
    "        cnt = df[i].count()\n",
    "        if (float(cnt) / n) < cutoff:\n",
    "            df.drop(i, axis=1, inplace=True)\n",
    "    if (os.path.exists(outfile)):\n",
    "        os.remove(outfile)\n",
    "    df.to_csv(outfile)\n",
    "    return True"
   ]
  },
  {
   "cell_type": "code",
   "execution_count": 16,
   "metadata": {},
   "outputs": [
    {
     "data": {
      "text/plain": [
       "True"
      ]
     },
     "execution_count": 16,
     "metadata": {},
     "output_type": "execute_result"
    }
   ],
   "source": [
    "deleteTheCol(cutoff=0.5,file=\"model_sample.csv\",outfile=\"Pre_Sample.csv\")"
   ]
  },
  {
   "cell_type": "code",
   "execution_count": 40,
   "metadata": {},
   "outputs": [],
   "source": [
    "def deleteTheRow(file,outfile):\n",
    "    #计算每行不缺失值的比例\n",
    "    import pandas as pd\n",
    "    import numpy as np\n",
    "    import os\n",
    "    df = pd.read_csv(file)\n",
    "    print(\"一共有：\",df.shape[0]-1,\"行\")\n",
    "    rows_not_null = df.count(axis=1)\n",
    "    df['NotNumber'] = rows_not_null/df.shape[1]\n",
    "    if(os.path.exists(outfile)):\n",
    "        os.remove(outfile)\n",
    "    df.to_csv(outfile)\n",
    "    return True"
   ]
  },
  {
   "cell_type": "code",
   "execution_count": 42,
   "metadata": {},
   "outputs": [
    {
     "name": "stdout",
     "output_type": "stream",
     "text": [
      "一共有： 11016 行\n"
     ]
    },
    {
     "data": {
      "text/plain": [
       "True"
      ]
     },
     "execution_count": 42,
     "metadata": {},
     "output_type": "execute_result"
    }
   ],
   "source": [
    "deleteTheRow(file=\"Pre_Sample.csv\",outfile=\"model_sample_NotNumber.csv\")"
   ]
  },
  {
   "cell_type": "code",
   "execution_count": 43,
   "metadata": {},
   "outputs": [
    {
     "data": {
      "text/html": [
       "<div>\n",
       "<style scoped>\n",
       "    .dataframe tbody tr th:only-of-type {\n",
       "        vertical-align: middle;\n",
       "    }\n",
       "\n",
       "    .dataframe tbody tr th {\n",
       "        vertical-align: top;\n",
       "    }\n",
       "\n",
       "    .dataframe thead th {\n",
       "        text-align: right;\n",
       "    }\n",
       "</style>\n",
       "<table border=\"1\" class=\"dataframe\">\n",
       "  <thead>\n",
       "    <tr style=\"text-align: right;\">\n",
       "      <th></th>\n",
       "      <th>user_id</th>\n",
       "      <th>y</th>\n",
       "      <th>x_001</th>\n",
       "      <th>x_002</th>\n",
       "      <th>x_003</th>\n",
       "      <th>x_004</th>\n",
       "      <th>x_005</th>\n",
       "      <th>x_006</th>\n",
       "      <th>x_007</th>\n",
       "      <th>x_008</th>\n",
       "      <th>...</th>\n",
       "      <th>x_191</th>\n",
       "      <th>x_192</th>\n",
       "      <th>x_193</th>\n",
       "      <th>x_194</th>\n",
       "      <th>x_195</th>\n",
       "      <th>x_196</th>\n",
       "      <th>x_197</th>\n",
       "      <th>x_198</th>\n",
       "      <th>x_199</th>\n",
       "      <th>NotNumber</th>\n",
       "    </tr>\n",
       "  </thead>\n",
       "  <tbody>\n",
       "    <tr>\n",
       "      <th>0</th>\n",
       "      <td>A00002</td>\n",
       "      <td>0</td>\n",
       "      <td>0.0</td>\n",
       "      <td>32.0</td>\n",
       "      <td>0</td>\n",
       "      <td>0</td>\n",
       "      <td>0</td>\n",
       "      <td>0</td>\n",
       "      <td>0</td>\n",
       "      <td>0</td>\n",
       "      <td>...</td>\n",
       "      <td>1.0</td>\n",
       "      <td>2.0</td>\n",
       "      <td>2.0</td>\n",
       "      <td>2.0</td>\n",
       "      <td>2.0</td>\n",
       "      <td>2.0</td>\n",
       "      <td>2.0</td>\n",
       "      <td>2.0</td>\n",
       "      <td>2.0</td>\n",
       "      <td>1.000000</td>\n",
       "    </tr>\n",
       "    <tr>\n",
       "      <th>1</th>\n",
       "      <td>A00005</td>\n",
       "      <td>0</td>\n",
       "      <td>0.0</td>\n",
       "      <td>29.0</td>\n",
       "      <td>0</td>\n",
       "      <td>0</td>\n",
       "      <td>0</td>\n",
       "      <td>0</td>\n",
       "      <td>0</td>\n",
       "      <td>0</td>\n",
       "      <td>...</td>\n",
       "      <td>NaN</td>\n",
       "      <td>NaN</td>\n",
       "      <td>NaN</td>\n",
       "      <td>NaN</td>\n",
       "      <td>NaN</td>\n",
       "      <td>NaN</td>\n",
       "      <td>NaN</td>\n",
       "      <td>NaN</td>\n",
       "      <td>NaN</td>\n",
       "      <td>0.551181</td>\n",
       "    </tr>\n",
       "    <tr>\n",
       "      <th>2</th>\n",
       "      <td>A00006</td>\n",
       "      <td>0</td>\n",
       "      <td>0.0</td>\n",
       "      <td>31.0</td>\n",
       "      <td>0</td>\n",
       "      <td>0</td>\n",
       "      <td>0</td>\n",
       "      <td>0</td>\n",
       "      <td>0</td>\n",
       "      <td>0</td>\n",
       "      <td>...</td>\n",
       "      <td>2.0</td>\n",
       "      <td>4.0</td>\n",
       "      <td>4.0</td>\n",
       "      <td>6.0</td>\n",
       "      <td>6.0</td>\n",
       "      <td>6.0</td>\n",
       "      <td>6.0</td>\n",
       "      <td>10.0</td>\n",
       "      <td>10.0</td>\n",
       "      <td>1.000000</td>\n",
       "    </tr>\n",
       "    <tr>\n",
       "      <th>3</th>\n",
       "      <td>A00008</td>\n",
       "      <td>0</td>\n",
       "      <td>0.0</td>\n",
       "      <td>22.0</td>\n",
       "      <td>0</td>\n",
       "      <td>0</td>\n",
       "      <td>0</td>\n",
       "      <td>0</td>\n",
       "      <td>0</td>\n",
       "      <td>0</td>\n",
       "      <td>...</td>\n",
       "      <td>3.0</td>\n",
       "      <td>3.0</td>\n",
       "      <td>3.0</td>\n",
       "      <td>5.0</td>\n",
       "      <td>5.0</td>\n",
       "      <td>3.0</td>\n",
       "      <td>3.0</td>\n",
       "      <td>7.0</td>\n",
       "      <td>7.0</td>\n",
       "      <td>0.937008</td>\n",
       "    </tr>\n",
       "    <tr>\n",
       "      <th>4</th>\n",
       "      <td>A00009</td>\n",
       "      <td>0</td>\n",
       "      <td>0.0</td>\n",
       "      <td>31.0</td>\n",
       "      <td>0</td>\n",
       "      <td>0</td>\n",
       "      <td>0</td>\n",
       "      <td>0</td>\n",
       "      <td>0</td>\n",
       "      <td>0</td>\n",
       "      <td>...</td>\n",
       "      <td>NaN</td>\n",
       "      <td>NaN</td>\n",
       "      <td>NaN</td>\n",
       "      <td>NaN</td>\n",
       "      <td>NaN</td>\n",
       "      <td>NaN</td>\n",
       "      <td>NaN</td>\n",
       "      <td>NaN</td>\n",
       "      <td>NaN</td>\n",
       "      <td>0.330709</td>\n",
       "    </tr>\n",
       "  </tbody>\n",
       "</table>\n",
       "<p>5 rows × 128 columns</p>\n",
       "</div>"
      ],
      "text/plain": [
       "  user_id  y  x_001  x_002  x_003  x_004  x_005  x_006  x_007  x_008  ...  \\\n",
       "0  A00002  0    0.0   32.0      0      0      0      0      0      0  ...   \n",
       "1  A00005  0    0.0   29.0      0      0      0      0      0      0  ...   \n",
       "2  A00006  0    0.0   31.0      0      0      0      0      0      0  ...   \n",
       "3  A00008  0    0.0   22.0      0      0      0      0      0      0  ...   \n",
       "4  A00009  0    0.0   31.0      0      0      0      0      0      0  ...   \n",
       "\n",
       "   x_191  x_192  x_193  x_194  x_195  x_196  x_197  x_198  x_199  NotNumber  \n",
       "0    1.0    2.0    2.0    2.0    2.0    2.0    2.0    2.0    2.0   1.000000  \n",
       "1    NaN    NaN    NaN    NaN    NaN    NaN    NaN    NaN    NaN   0.551181  \n",
       "2    2.0    4.0    4.0    6.0    6.0    6.0    6.0   10.0   10.0   1.000000  \n",
       "3    3.0    3.0    3.0    5.0    5.0    3.0    3.0    7.0    7.0   0.937008  \n",
       "4    NaN    NaN    NaN    NaN    NaN    NaN    NaN    NaN    NaN   0.330709  \n",
       "\n",
       "[5 rows x 128 columns]"
      ]
     },
     "execution_count": 43,
     "metadata": {},
     "output_type": "execute_result"
    }
   ],
   "source": [
    "import pandas as pd\n",
    "data = pd.read_csv(\"model_sample_NotNumber.csv\",index_col=0)\n",
    "data.head()\n",
    "#Excel筛选NotNnumber在0.5以上的数据"
   ]
  },
  {
   "cell_type": "code",
   "execution_count": 49,
   "metadata": {},
   "outputs": [
    {
     "data": {
      "text/html": [
       "<div>\n",
       "<style scoped>\n",
       "    .dataframe tbody tr th:only-of-type {\n",
       "        vertical-align: middle;\n",
       "    }\n",
       "\n",
       "    .dataframe tbody tr th {\n",
       "        vertical-align: top;\n",
       "    }\n",
       "\n",
       "    .dataframe thead th {\n",
       "        text-align: right;\n",
       "    }\n",
       "</style>\n",
       "<table border=\"1\" class=\"dataframe\">\n",
       "  <thead>\n",
       "    <tr style=\"text-align: right;\">\n",
       "      <th></th>\n",
       "      <th>x_001</th>\n",
       "      <th>x_002</th>\n",
       "      <th>x_003</th>\n",
       "      <th>x_004</th>\n",
       "      <th>x_005</th>\n",
       "      <th>x_006</th>\n",
       "      <th>x_007</th>\n",
       "      <th>x_008</th>\n",
       "      <th>x_009</th>\n",
       "      <th>x_010</th>\n",
       "      <th>...</th>\n",
       "      <th>x_191</th>\n",
       "      <th>x_192</th>\n",
       "      <th>x_193</th>\n",
       "      <th>x_194</th>\n",
       "      <th>x_195</th>\n",
       "      <th>x_196</th>\n",
       "      <th>x_197</th>\n",
       "      <th>x_198</th>\n",
       "      <th>x_199</th>\n",
       "      <th>y</th>\n",
       "    </tr>\n",
       "    <tr>\n",
       "      <th>user_id</th>\n",
       "      <th></th>\n",
       "      <th></th>\n",
       "      <th></th>\n",
       "      <th></th>\n",
       "      <th></th>\n",
       "      <th></th>\n",
       "      <th></th>\n",
       "      <th></th>\n",
       "      <th></th>\n",
       "      <th></th>\n",
       "      <th></th>\n",
       "      <th></th>\n",
       "      <th></th>\n",
       "      <th></th>\n",
       "      <th></th>\n",
       "      <th></th>\n",
       "      <th></th>\n",
       "      <th></th>\n",
       "      <th></th>\n",
       "      <th></th>\n",
       "      <th></th>\n",
       "    </tr>\n",
       "  </thead>\n",
       "  <tbody>\n",
       "    <tr>\n",
       "      <th>A00002</th>\n",
       "      <td>0</td>\n",
       "      <td>32</td>\n",
       "      <td>0</td>\n",
       "      <td>0</td>\n",
       "      <td>0</td>\n",
       "      <td>0</td>\n",
       "      <td>0</td>\n",
       "      <td>0</td>\n",
       "      <td>1</td>\n",
       "      <td>1</td>\n",
       "      <td>...</td>\n",
       "      <td>1.0</td>\n",
       "      <td>2.0</td>\n",
       "      <td>2.0</td>\n",
       "      <td>2.0</td>\n",
       "      <td>2.0</td>\n",
       "      <td>2.0</td>\n",
       "      <td>2.0</td>\n",
       "      <td>2.0</td>\n",
       "      <td>2.0</td>\n",
       "      <td>0</td>\n",
       "    </tr>\n",
       "    <tr>\n",
       "      <th>A00005</th>\n",
       "      <td>0</td>\n",
       "      <td>29</td>\n",
       "      <td>0</td>\n",
       "      <td>0</td>\n",
       "      <td>0</td>\n",
       "      <td>0</td>\n",
       "      <td>0</td>\n",
       "      <td>0</td>\n",
       "      <td>0</td>\n",
       "      <td>0</td>\n",
       "      <td>...</td>\n",
       "      <td>NaN</td>\n",
       "      <td>NaN</td>\n",
       "      <td>NaN</td>\n",
       "      <td>NaN</td>\n",
       "      <td>NaN</td>\n",
       "      <td>NaN</td>\n",
       "      <td>NaN</td>\n",
       "      <td>NaN</td>\n",
       "      <td>NaN</td>\n",
       "      <td>0</td>\n",
       "    </tr>\n",
       "    <tr>\n",
       "      <th>A00006</th>\n",
       "      <td>0</td>\n",
       "      <td>31</td>\n",
       "      <td>0</td>\n",
       "      <td>0</td>\n",
       "      <td>0</td>\n",
       "      <td>0</td>\n",
       "      <td>0</td>\n",
       "      <td>0</td>\n",
       "      <td>0</td>\n",
       "      <td>0</td>\n",
       "      <td>...</td>\n",
       "      <td>2.0</td>\n",
       "      <td>4.0</td>\n",
       "      <td>4.0</td>\n",
       "      <td>6.0</td>\n",
       "      <td>6.0</td>\n",
       "      <td>6.0</td>\n",
       "      <td>6.0</td>\n",
       "      <td>10.0</td>\n",
       "      <td>10.0</td>\n",
       "      <td>0</td>\n",
       "    </tr>\n",
       "    <tr>\n",
       "      <th>A00008</th>\n",
       "      <td>0</td>\n",
       "      <td>22</td>\n",
       "      <td>0</td>\n",
       "      <td>0</td>\n",
       "      <td>0</td>\n",
       "      <td>0</td>\n",
       "      <td>0</td>\n",
       "      <td>0</td>\n",
       "      <td>0</td>\n",
       "      <td>0</td>\n",
       "      <td>...</td>\n",
       "      <td>3.0</td>\n",
       "      <td>3.0</td>\n",
       "      <td>3.0</td>\n",
       "      <td>5.0</td>\n",
       "      <td>5.0</td>\n",
       "      <td>3.0</td>\n",
       "      <td>3.0</td>\n",
       "      <td>7.0</td>\n",
       "      <td>7.0</td>\n",
       "      <td>0</td>\n",
       "    </tr>\n",
       "    <tr>\n",
       "      <th>A00013</th>\n",
       "      <td>0</td>\n",
       "      <td>32</td>\n",
       "      <td>0</td>\n",
       "      <td>0</td>\n",
       "      <td>0</td>\n",
       "      <td>0</td>\n",
       "      <td>0</td>\n",
       "      <td>0</td>\n",
       "      <td>0</td>\n",
       "      <td>0</td>\n",
       "      <td>...</td>\n",
       "      <td>0.0</td>\n",
       "      <td>1.0</td>\n",
       "      <td>1.0</td>\n",
       "      <td>1.0</td>\n",
       "      <td>1.0</td>\n",
       "      <td>9.0</td>\n",
       "      <td>5.0</td>\n",
       "      <td>12.0</td>\n",
       "      <td>8.0</td>\n",
       "      <td>0</td>\n",
       "    </tr>\n",
       "  </tbody>\n",
       "</table>\n",
       "<p>5 rows × 126 columns</p>\n",
       "</div>"
      ],
      "text/plain": [
       "         x_001  x_002  x_003  x_004  x_005  x_006  x_007  x_008  x_009  x_010  \\\n",
       "user_id                                                                         \n",
       "A00002       0     32      0      0      0      0      0      0      1      1   \n",
       "A00005       0     29      0      0      0      0      0      0      0      0   \n",
       "A00006       0     31      0      0      0      0      0      0      0      0   \n",
       "A00008       0     22      0      0      0      0      0      0      0      0   \n",
       "A00013       0     32      0      0      0      0      0      0      0      0   \n",
       "\n",
       "         ...  x_191  x_192  x_193  x_194  x_195  x_196  x_197  x_198  x_199  y  \n",
       "user_id  ...                                                                    \n",
       "A00002   ...    1.0    2.0    2.0    2.0    2.0    2.0    2.0    2.0    2.0  0  \n",
       "A00005   ...    NaN    NaN    NaN    NaN    NaN    NaN    NaN    NaN    NaN  0  \n",
       "A00006   ...    2.0    4.0    4.0    6.0    6.0    6.0    6.0   10.0   10.0  0  \n",
       "A00008   ...    3.0    3.0    3.0    5.0    5.0    3.0    3.0    7.0    7.0  0  \n",
       "A00013   ...    0.0    1.0    1.0    1.0    1.0    9.0    5.0   12.0    8.0  0  \n",
       "\n",
       "[5 rows x 126 columns]"
      ]
     },
     "execution_count": 49,
     "metadata": {},
     "output_type": "execute_result"
    }
   ],
   "source": [
    "import pandas as pd\n",
    "data = pd.read_csv(\"pre_fill.csv\",index_col=0)\n",
    "data.head()\n",
    "#缺失值处理完毕"
   ]
  },
  {
   "cell_type": "code",
   "execution_count": 53,
   "metadata": {},
   "outputs": [
    {
     "name": "stdout",
     "output_type": "stream",
     "text": [
      "['x_001', 'x_002', 'x_003', 'x_004', 'x_005', 'x_006', 'x_007', 'x_008', 'x_009', 'x_010', 'x_011', 'x_012', 'x_013', 'x_014', 'x_015', 'x_016', 'x_017', 'x_018', 'x_019', 'x_020', 'x_021', 'x_022', 'x_023', 'x_024', 'x_025', 'x_026', 'x_027', 'x_028', 'x_029', 'x_030', 'x_031', 'x_032', 'x_033', 'x_034', 'x_035', 'x_036', 'x_037', 'x_038', 'x_039', 'x_040', 'x_041', 'x_042', 'x_043', 'x_044', 'x_045', 'x_046', 'x_047', 'x_055', 'x_056', 'x_057', 'x_058', 'x_059', 'x_060', 'x_061', 'x_074', 'x_075', 'x_076', 'x_077', 'x_078', 'x_079', 'x_080', 'x_121', 'x_122', 'x_123', 'x_124', 'x_125', 'x_126', 'x_127', 'x_131', 'x_132', 'x_134', 'x_137', 'x_139', 'x_142', 'x_143', 'x_144', 'x_145', 'x_146', 'x_147', 'x_148', 'x_149', 'x_150', 'x_151', 'x_152', 'x_153', 'x_154', 'x_155', 'x_156', 'x_157', 'x_158', 'x_162', 'x_163', 'x_164', 'x_165', 'x_166', 'x_167', 'x_168', 'x_169', 'x_170', 'x_171', 'x_175', 'x_176', 'x_177', 'x_178', 'x_179', 'x_180', 'x_181', 'x_182', 'x_183', 'x_184', 'x_185', 'x_186', 'x_187', 'x_188', 'x_189', 'x_190', 'x_191', 'x_192', 'x_193', 'x_194', 'x_195', 'x_196', 'x_197', 'x_198', 'x_199', 'y'] \n",
      "\n"
     ]
    }
   ],
   "source": [
    "print(list(data.columns),\"\\n\")  #输出目前所有原始列\n",
    "#数据填充\n",
    "#前19个变量用中位数填充，.fillna 在DataFrame里面直接进行填补\n",
    "data.iloc[:,0:19] = data.iloc[:,0:19].fillna(data.iloc[:,0:19].median())\n",
    "#第27.33个等级变量用中位数填充，.fillna 在DataFrame里面直接进行填补\n",
    "data.iloc[:,[26,32]] = data.iloc[:,[26,32]].fillna(data.iloc[:,[26,32]].median())"
   ]
  },
  {
   "cell_type": "code",
   "execution_count": 55,
   "metadata": {},
   "outputs": [],
   "source": [
    "#第20-26个变量用均数填充，.fillna 在DataFrame里面直接进行填补\n",
    "data.iloc[:,19:26] = data.iloc[:,19:26].fillna(data.iloc[:,19:26].mean())\n",
    "#第28-32个变量用均数填充，.fillna 在DataFrame里面直接进行填补\n",
    "data.iloc[:,27:32] = data.iloc[:,27:32].fillna(data.iloc[:,27:32].mean())\n",
    "#第34-199个变量用均数填充，.fillna 在DataFrame里面直接进行填补\n",
    "data.iloc[:,33:199] = data.iloc[:,33:199].fillna(data.iloc[:,33:199].mean())"
   ]
  },
  {
   "cell_type": "code",
   "execution_count": 65,
   "metadata": {},
   "outputs": [],
   "source": [
    "data.head()\n",
    "data.to_csv(\"after_fill.csv\")"
   ]
  },
  {
   "cell_type": "code",
   "execution_count": 70,
   "metadata": {},
   "outputs": [
    {
     "name": "stdout",
     "output_type": "stream",
     "text": [
      "[[0.         0.33333333 0.         ... 0.01104972 0.01515152 0.        ]\n",
      " [0.         0.25641026 0.         ... 0.04628197 0.05942765 0.        ]\n",
      " [0.         0.30769231 0.         ... 0.05524862 0.07575758 0.        ]\n",
      " ...\n",
      " [0.         0.23076923 0.         ... 0.         0.         0.        ]\n",
      " [0.         0.1025641  0.         ... 0.03867403 0.00757576 0.        ]\n",
      " [0.         0.41025641 0.         ... 0.00552486 0.00757576 1.        ]]\n"
     ]
    },
    {
     "data": {
      "text/plain": [
       "0.03422590240459709"
      ]
     },
     "execution_count": 70,
     "metadata": {},
     "output_type": "execute_result"
    }
   ],
   "source": [
    "#去量钢化\n",
    "#数据归一化，转化为-0-1之间\n",
    "from sklearn.preprocessing import MinMaxScaler\n",
    "scaler=MinMaxScaler()    #实例化\n",
    "scaler=scaler.fit(data)   #生成最大值和最小值\n",
    "result=scaler.transform(data)  #通过接口函数导出结果\n",
    "print(result)\n",
    "result.mean()\n",
    "result.var()"
   ]
  },
  {
   "cell_type": "code",
   "execution_count": 74,
   "metadata": {},
   "outputs": [
    {
     "data": {
      "text/plain": [
       "array([[ 0.        , 32.        ,  0.        , ...,  2.        ,\n",
       "         2.        ,  0.        ],\n",
       "       [ 0.        , 29.        ,  0.        , ...,  8.37703672,\n",
       "         7.84444927,  0.        ],\n",
       "       [ 0.        , 31.        ,  0.        , ..., 10.        ,\n",
       "        10.        ,  0.        ],\n",
       "       ...,\n",
       "       [ 0.        , 28.        ,  0.        , ...,  0.        ,\n",
       "         0.        ,  0.        ],\n",
       "       [ 0.        , 23.        ,  0.        , ...,  7.        ,\n",
       "         1.        ,  0.        ],\n",
       "       [ 0.        , 35.        ,  0.        , ...,  1.        ,\n",
       "         1.        ,  1.        ]])"
      ]
     },
     "execution_count": 74,
     "metadata": {},
     "output_type": "execute_result"
    }
   ],
   "source": [
    "#反归一化，再试试后面的标准化\n",
    "result_=scaler.inverse_transform(result)\n",
    "result_"
   ]
  },
  {
   "cell_type": "code",
   "execution_count": 80,
   "metadata": {},
   "outputs": [],
   "source": [
    "#数据标准化\n",
    "from sklearn.preprocessing import StandardScaler\n",
    "scaler_=StandardScaler()    #实例化\n",
    "scaler_.fit(data)      #生成均值和方差\n",
    "scaler_.mean_\n",
    "scaler_.var_\n",
    "data_std=scaler_.transform(result_)\n",
    "data_std\n",
    "#x_std.mean()\n",
    "#x_std.var()\n",
    "#由于在PCA中往往用标准化去量纲，故采用StandardScaler\n",
    "data.to_csv(\"after_fill_std.csv\")"
   ]
  },
  {
   "cell_type": "code",
   "execution_count": 87,
   "metadata": {},
   "outputs": [
    {
     "data": {
      "text/html": [
       "<div>\n",
       "<style scoped>\n",
       "    .dataframe tbody tr th:only-of-type {\n",
       "        vertical-align: middle;\n",
       "    }\n",
       "\n",
       "    .dataframe tbody tr th {\n",
       "        vertical-align: top;\n",
       "    }\n",
       "\n",
       "    .dataframe thead th {\n",
       "        text-align: right;\n",
       "    }\n",
       "</style>\n",
       "<table border=\"1\" class=\"dataframe\">\n",
       "  <thead>\n",
       "    <tr style=\"text-align: right;\">\n",
       "      <th></th>\n",
       "      <th>x_027</th>\n",
       "      <th>x_033</th>\n",
       "    </tr>\n",
       "    <tr>\n",
       "      <th>user_id</th>\n",
       "      <th></th>\n",
       "      <th></th>\n",
       "    </tr>\n",
       "  </thead>\n",
       "  <tbody>\n",
       "    <tr>\n",
       "      <th>A00002</th>\n",
       "      <td>1</td>\n",
       "      <td>1</td>\n",
       "    </tr>\n",
       "    <tr>\n",
       "      <th>A00005</th>\n",
       "      <td>1</td>\n",
       "      <td>1</td>\n",
       "    </tr>\n",
       "    <tr>\n",
       "      <th>A00006</th>\n",
       "      <td>2</td>\n",
       "      <td>2</td>\n",
       "    </tr>\n",
       "    <tr>\n",
       "      <th>A00008</th>\n",
       "      <td>0</td>\n",
       "      <td>1</td>\n",
       "    </tr>\n",
       "    <tr>\n",
       "      <th>A00013</th>\n",
       "      <td>0</td>\n",
       "      <td>1</td>\n",
       "    </tr>\n",
       "  </tbody>\n",
       "</table>\n",
       "</div>"
      ],
      "text/plain": [
       "         x_027  x_033\n",
       "user_id              \n",
       "A00002       1      1\n",
       "A00005       1      1\n",
       "A00006       2      2\n",
       "A00008       0      1\n",
       "A00013       0      1"
      ]
     },
     "execution_count": 87,
     "metadata": {},
     "output_type": "execute_result"
    }
   ],
   "source": [
    "# onehot 编码\n",
    "import numpy as np\n",
    "from sklearn.preprocessing import OneHotEncoder \n",
    "import pandas as pd\n",
    "data1= pd.read_csv(\"after_fill_std.csv\",index_col=0)\n",
    "#对等级变量编码\n",
    "X = data1.iloc[:,[26,32]]\n",
    "X.head()"
   ]
  },
  {
   "cell_type": "code",
   "execution_count": 90,
   "metadata": {},
   "outputs": [
    {
     "data": {
      "text/plain": [
       "array([[0., 1., 0., ..., 0., 0., 0.],\n",
       "       [0., 1., 0., ..., 0., 0., 0.],\n",
       "       [0., 0., 1., ..., 1., 0., 0.],\n",
       "       ...,\n",
       "       [0., 1., 0., ..., 0., 0., 0.],\n",
       "       [0., 1., 0., ..., 0., 0., 0.],\n",
       "       [0., 1., 0., ..., 0., 0., 0.]])"
      ]
     },
     "execution_count": 90,
     "metadata": {},
     "output_type": "execute_result"
    }
   ],
   "source": [
    "enc=OneHotEncoder(categories='auto').fit(X)\n",
    "X1=enc.transform(X).toarray()\n",
    "X1"
   ]
  },
  {
   "cell_type": "code",
   "execution_count": 109,
   "metadata": {},
   "outputs": [
    {
     "data": {
      "text/plain": [
       "array(['x0_0', 'x0_1', 'x0_2', 'x0_3', 'x0_4', 'x1_0', 'x1_1', 'x1_2',\n",
       "       'x1_3', 'x1_4'], dtype=object)"
      ]
     },
     "execution_count": 109,
     "metadata": {},
     "output_type": "execute_result"
    }
   ],
   "source": [
    "enc.get_feature_names()"
   ]
  },
  {
   "cell_type": "code",
   "execution_count": 112,
   "metadata": {},
   "outputs": [],
   "source": [
    "#与原始数据表相连组成新的特征的数据\n",
    "newdata = pd.concat([data1,pd.DataFrame(X1)],axis=1)\n",
    "newdata.drop([\"x_027\",\"x_033\"],axis=1,inplace=True)"
   ]
  },
  {
   "cell_type": "code",
   "execution_count": 101,
   "metadata": {},
   "outputs": [],
   "source": [
    "newdata.to_csv(\"enddata.csv\")\n",
    "#数据预处理结束，以下为特征选取和降维"
   ]
  },
  {
   "cell_type": "code",
   "execution_count": 3,
   "metadata": {},
   "outputs": [],
   "source": [
    "#PCA\n",
    "import pandas as pd\n",
    "data2= pd.read_csv(\"enddata.csv\",index_col=0)\n",
    "#data2.head()"
   ]
  },
  {
   "cell_type": "code",
   "execution_count": 4,
   "metadata": {},
   "outputs": [
    {
     "data": {
      "text/html": [
       "<div>\n",
       "<style scoped>\n",
       "    .dataframe tbody tr th:only-of-type {\n",
       "        vertical-align: middle;\n",
       "    }\n",
       "\n",
       "    .dataframe tbody tr th {\n",
       "        vertical-align: top;\n",
       "    }\n",
       "\n",
       "    .dataframe thead th {\n",
       "        text-align: right;\n",
       "    }\n",
       "</style>\n",
       "<table border=\"1\" class=\"dataframe\">\n",
       "  <thead>\n",
       "    <tr style=\"text-align: right;\">\n",
       "      <th></th>\n",
       "      <th>x_001</th>\n",
       "      <th>x_002</th>\n",
       "      <th>x_003</th>\n",
       "      <th>x_004</th>\n",
       "      <th>x_005</th>\n",
       "      <th>x_006</th>\n",
       "      <th>x_007</th>\n",
       "      <th>x_008</th>\n",
       "      <th>x_009</th>\n",
       "      <th>x_010</th>\n",
       "      <th>...</th>\n",
       "      <th>x_027_1</th>\n",
       "      <th>x_027_2</th>\n",
       "      <th>x_027_3</th>\n",
       "      <th>x_027_4</th>\n",
       "      <th>x_027_5</th>\n",
       "      <th>x_033_1</th>\n",
       "      <th>x_033_2</th>\n",
       "      <th>x_033_3</th>\n",
       "      <th>x_033_4</th>\n",
       "      <th>x_033_5</th>\n",
       "    </tr>\n",
       "  </thead>\n",
       "  <tbody>\n",
       "    <tr>\n",
       "      <th>A00002</th>\n",
       "      <td>0</td>\n",
       "      <td>32</td>\n",
       "      <td>0</td>\n",
       "      <td>0</td>\n",
       "      <td>0</td>\n",
       "      <td>0</td>\n",
       "      <td>0</td>\n",
       "      <td>0</td>\n",
       "      <td>1</td>\n",
       "      <td>1</td>\n",
       "      <td>...</td>\n",
       "      <td>0</td>\n",
       "      <td>1</td>\n",
       "      <td>0</td>\n",
       "      <td>0</td>\n",
       "      <td>0</td>\n",
       "      <td>0</td>\n",
       "      <td>1</td>\n",
       "      <td>0</td>\n",
       "      <td>0</td>\n",
       "      <td>0</td>\n",
       "    </tr>\n",
       "    <tr>\n",
       "      <th>A00005</th>\n",
       "      <td>0</td>\n",
       "      <td>29</td>\n",
       "      <td>0</td>\n",
       "      <td>0</td>\n",
       "      <td>0</td>\n",
       "      <td>0</td>\n",
       "      <td>0</td>\n",
       "      <td>0</td>\n",
       "      <td>0</td>\n",
       "      <td>0</td>\n",
       "      <td>...</td>\n",
       "      <td>0</td>\n",
       "      <td>1</td>\n",
       "      <td>0</td>\n",
       "      <td>0</td>\n",
       "      <td>0</td>\n",
       "      <td>0</td>\n",
       "      <td>1</td>\n",
       "      <td>0</td>\n",
       "      <td>0</td>\n",
       "      <td>0</td>\n",
       "    </tr>\n",
       "    <tr>\n",
       "      <th>A00006</th>\n",
       "      <td>0</td>\n",
       "      <td>31</td>\n",
       "      <td>0</td>\n",
       "      <td>0</td>\n",
       "      <td>0</td>\n",
       "      <td>0</td>\n",
       "      <td>0</td>\n",
       "      <td>0</td>\n",
       "      <td>0</td>\n",
       "      <td>0</td>\n",
       "      <td>...</td>\n",
       "      <td>0</td>\n",
       "      <td>0</td>\n",
       "      <td>1</td>\n",
       "      <td>0</td>\n",
       "      <td>0</td>\n",
       "      <td>0</td>\n",
       "      <td>0</td>\n",
       "      <td>1</td>\n",
       "      <td>0</td>\n",
       "      <td>0</td>\n",
       "    </tr>\n",
       "    <tr>\n",
       "      <th>A00008</th>\n",
       "      <td>0</td>\n",
       "      <td>22</td>\n",
       "      <td>0</td>\n",
       "      <td>0</td>\n",
       "      <td>0</td>\n",
       "      <td>0</td>\n",
       "      <td>0</td>\n",
       "      <td>0</td>\n",
       "      <td>0</td>\n",
       "      <td>0</td>\n",
       "      <td>...</td>\n",
       "      <td>1</td>\n",
       "      <td>0</td>\n",
       "      <td>0</td>\n",
       "      <td>0</td>\n",
       "      <td>0</td>\n",
       "      <td>0</td>\n",
       "      <td>1</td>\n",
       "      <td>0</td>\n",
       "      <td>0</td>\n",
       "      <td>0</td>\n",
       "    </tr>\n",
       "    <tr>\n",
       "      <th>A00013</th>\n",
       "      <td>0</td>\n",
       "      <td>32</td>\n",
       "      <td>0</td>\n",
       "      <td>0</td>\n",
       "      <td>0</td>\n",
       "      <td>0</td>\n",
       "      <td>0</td>\n",
       "      <td>0</td>\n",
       "      <td>0</td>\n",
       "      <td>0</td>\n",
       "      <td>...</td>\n",
       "      <td>1</td>\n",
       "      <td>0</td>\n",
       "      <td>0</td>\n",
       "      <td>0</td>\n",
       "      <td>0</td>\n",
       "      <td>0</td>\n",
       "      <td>1</td>\n",
       "      <td>0</td>\n",
       "      <td>0</td>\n",
       "      <td>0</td>\n",
       "    </tr>\n",
       "  </tbody>\n",
       "</table>\n",
       "<p>5 rows × 133 columns</p>\n",
       "</div>"
      ],
      "text/plain": [
       "        x_001  x_002  x_003  x_004  x_005  x_006  x_007  x_008  x_009  x_010  \\\n",
       "A00002      0     32      0      0      0      0      0      0      1      1   \n",
       "A00005      0     29      0      0      0      0      0      0      0      0   \n",
       "A00006      0     31      0      0      0      0      0      0      0      0   \n",
       "A00008      0     22      0      0      0      0      0      0      0      0   \n",
       "A00013      0     32      0      0      0      0      0      0      0      0   \n",
       "\n",
       "        ...  x_027_1  x_027_2  x_027_3  x_027_4  x_027_5  x_033_1  x_033_2  \\\n",
       "A00002  ...        0        1        0        0        0        0        1   \n",
       "A00005  ...        0        1        0        0        0        0        1   \n",
       "A00006  ...        0        0        1        0        0        0        0   \n",
       "A00008  ...        1        0        0        0        0        0        1   \n",
       "A00013  ...        1        0        0        0        0        0        1   \n",
       "\n",
       "        x_033_3  x_033_4  x_033_5  \n",
       "A00002        0        0        0  \n",
       "A00005        0        0        0  \n",
       "A00006        1        0        0  \n",
       "A00008        0        0        0  \n",
       "A00013        0        0        0  \n",
       "\n",
       "[5 rows x 133 columns]"
      ]
     },
     "execution_count": 4,
     "metadata": {},
     "output_type": "execute_result"
    }
   ],
   "source": [
    "from sklearn.decomposition import PCA\n",
    "XX=data2.iloc[:,0:-1]\n",
    "XX.shape\n",
    "XX.head()"
   ]
  },
  {
   "cell_type": "code",
   "execution_count": 5,
   "metadata": {},
   "outputs": [
    {
     "data": {
      "text/plain": [
       "(9701,)"
      ]
     },
     "execution_count": 5,
     "metadata": {},
     "output_type": "execute_result"
    }
   ],
   "source": [
    "YY=data2['y']\n",
    "YY.shape"
   ]
  },
  {
   "cell_type": "code",
   "execution_count": 6,
   "metadata": {},
   "outputs": [],
   "source": [
    "import pandas as pd\n",
    "#pd.DataFrame(XX)"
   ]
  },
  {
   "cell_type": "code",
   "execution_count": 9,
   "metadata": {},
   "outputs": [
    {
     "data": {
      "image/png": "[encoded data removed]",
      "text/plain": [
       "<Figure size 432x288 with 1 Axes>"
      ]
     },
     "metadata": {
      "needs_background": "light"
     },
     "output_type": "display_data"
    }
   ],
   "source": [
    "#看看n_components取几\n",
    "pca_line=PCA().fit(XX)\n",
    "plt.plot(np.cumsum(pca_line.explained_variance_ratio_))\n",
    "plt.xlabel(\"number of components after PCA dimension reduction\")\n",
    "plt.ylabel(\"cumulative explained variance\")\n",
    "plt.show()\n",
    "#看累计贡献率，就取20吧"
   ]
  },
  {
   "cell_type": "code",
   "execution_count": 10,
   "metadata": {},
   "outputs": [
    {
     "data": {
      "text/plain": [
       "array([[-5.37353739e+04,  1.86747926e+03, -1.01121802e+04, ...,\n",
       "        -3.55060710e+02,  3.84938067e+01, -1.16660449e+01],\n",
       "       [-4.32929362e+04,  1.68302196e+03,  3.82938803e+02, ...,\n",
       "         4.26578926e+01, -2.75874494e+02,  5.33901218e+01],\n",
       "       [-3.14514196e+04, -1.03936949e+03,  6.04881680e+03, ...,\n",
       "        -8.49810703e+02,  1.80543458e+02,  3.48626683e+01],\n",
       "       ...,\n",
       "       [-1.23635723e+00, -1.11503959e+00, -8.04096257e+01, ...,\n",
       "        -7.43301981e+01, -4.93220500e+00,  3.94427320e+00],\n",
       "       [-2.94007629e+04,  7.02578185e+02, -8.09843721e+03, ...,\n",
       "        -1.88902286e+02,  1.45060955e+02, -5.74582508e+02],\n",
       "       [-4.24511927e+04,  2.19168608e+03, -1.19468991e+04, ...,\n",
       "        -4.56077203e+02, -4.17675982e+02,  1.60868036e+02]])"
      ]
     },
     "execution_count": 10,
     "metadata": {},
     "output_type": "execute_result"
    }
   ],
   "source": [
    "pca=PCA(n_components=20)\n",
    "pca=pca.fit(XX)\n",
    "X_=pca.transform(XX)\n",
    "X_"
   ]
  },
  {
   "cell_type": "code",
   "execution_count": 158,
   "metadata": {},
   "outputs": [
    {
     "data": {
      "text/plain": [
       "array([2.68938548e+10, 7.42968664e+08, 6.04536375e+08, 5.36229415e+08,\n",
       "       2.43012116e+08, 1.93697651e+08, 8.31459173e+07, 5.49359982e+07,\n",
       "       4.76039993e+07, 2.23231170e+07, 1.23623227e+07, 1.20871034e+07,\n",
       "       9.30013500e+06, 6.16156179e+06, 5.32114086e+06, 3.74902167e+06,\n",
       "       3.09505348e+06, 2.16944366e+06, 9.25206811e+05, 8.49032124e+05])"
      ]
     },
     "execution_count": 158,
     "metadata": {},
     "output_type": "execute_result"
    }
   ],
   "source": [
    "pca.explained_variance_   #查看每个新特征所带信息量的大小"
   ]
  },
  {
   "cell_type": "code",
   "execution_count": 11,
   "metadata": {},
   "outputs": [
    {
     "data": {
      "text/plain": [
       "array([9.12303095e-01, 2.52032525e-02, 2.05073021e-02, 1.81901687e-02,\n",
       "       8.24354514e-03, 6.57068198e-03, 2.82050596e-03, 1.86355885e-03,\n",
       "       1.61484013e-03, 7.57252872e-04, 4.19359195e-04, 4.10023107e-04,\n",
       "       3.15482552e-04, 2.09014734e-04, 1.80505670e-04, 1.27175673e-04,\n",
       "       1.04991527e-04, 7.35926548e-05, 3.13852010e-05, 2.88011756e-05])"
      ]
     },
     "execution_count": 11,
     "metadata": {},
     "output_type": "execute_result"
    }
   ],
   "source": [
    "pca.explained_variance_ratio_ #查看降维后每个新特征所占的信息量占原始数据总信息量的百分比"
   ]
  },
  {
   "cell_type": "code",
   "execution_count": 12,
   "metadata": {},
   "outputs": [
    {
     "data": {
      "text/plain": [
       "0.9999745348432884"
      ]
     },
     "execution_count": 12,
     "metadata": {},
     "output_type": "execute_result"
    }
   ],
   "source": [
    "pca.explained_variance_ratio_.sum()#查看降维后20个特征总的贡献率"
   ]
  },
  {
   "cell_type": "code",
   "execution_count": 13,
   "metadata": {},
   "outputs": [
    {
     "name": "stdout",
     "output_type": "stream",
     "text": [
      "0    7658\n",
      "1    2043\n",
      "Name: y, dtype: int64\n"
     ]
    }
   ],
   "source": [
    "#以下为数据平衡\n",
    "#查看y的分布，4：1可见类别不平衡\n",
    "print(data2.y.value_counts())"
   ]
  },
  {
   "cell_type": "code",
   "execution_count": 30,
   "metadata": {},
   "outputs": [
    {
     "name": "stdout",
     "output_type": "stream",
     "text": [
      "1    7658\n",
      "0    7658\n",
      "Name: y, dtype: int64\n"
     ]
    },
    {
     "data": {
      "text/plain": [
       "(15316, 134)"
      ]
     },
     "execution_count": 30,
     "metadata": {},
     "output_type": "execute_result"
    }
   ],
   "source": [
    "from imblearn.over_sampling import SMOTE\n",
    "sm=SMOTE(sampling_strategy='auto',random_state=20)\n",
    "oversampled_XX,oversampled_YY=sm.fit_sample(data2.drop('y',axis=1),data2['y'])\n",
    "oversampled_data=pd.concat([pd.DataFrame(oversampled_XX),pd.DataFrame(oversampled_YY)],axis=1)\n",
    "print(oversampled_YY.value_counts())\n",
    "oversampled_data.shape"
   ]
  },
  {
   "cell_type": "code",
   "execution_count": 32,
   "metadata": {},
   "outputs": [],
   "source": [
    "oversampled_data.to_csv(\"afterbalance.csv\")\n",
    "#数据平衡完毕"
   ]
  },
  {
   "cell_type": "code",
   "execution_count": 1,
   "metadata": {},
   "outputs": [
    {
     "data": {
      "text/html": [
       "<div>\n",
       "<style scoped>\n",
       "    .dataframe tbody tr th:only-of-type {\n",
       "        vertical-align: middle;\n",
       "    }\n",
       "\n",
       "    .dataframe tbody tr th {\n",
       "        vertical-align: top;\n",
       "    }\n",
       "\n",
       "    .dataframe thead th {\n",
       "        text-align: right;\n",
       "    }\n",
       "</style>\n",
       "<table border=\"1\" class=\"dataframe\">\n",
       "  <thead>\n",
       "    <tr style=\"text-align: right;\">\n",
       "      <th></th>\n",
       "      <th>x_001</th>\n",
       "      <th>x_002</th>\n",
       "      <th>x_003</th>\n",
       "      <th>x_004</th>\n",
       "      <th>x_005</th>\n",
       "      <th>x_006</th>\n",
       "      <th>x_007</th>\n",
       "      <th>x_008</th>\n",
       "      <th>x_009</th>\n",
       "      <th>x_010</th>\n",
       "      <th>...</th>\n",
       "      <th>x_027_2</th>\n",
       "      <th>x_027_3</th>\n",
       "      <th>x_027_4</th>\n",
       "      <th>x_027_5</th>\n",
       "      <th>x_033_1</th>\n",
       "      <th>x_033_2</th>\n",
       "      <th>x_033_3</th>\n",
       "      <th>x_033_4</th>\n",
       "      <th>x_033_5</th>\n",
       "      <th>y</th>\n",
       "    </tr>\n",
       "  </thead>\n",
       "  <tbody>\n",
       "    <tr>\n",
       "      <th>0</th>\n",
       "      <td>0</td>\n",
       "      <td>32</td>\n",
       "      <td>0</td>\n",
       "      <td>0</td>\n",
       "      <td>0</td>\n",
       "      <td>0</td>\n",
       "      <td>0</td>\n",
       "      <td>0</td>\n",
       "      <td>1</td>\n",
       "      <td>1</td>\n",
       "      <td>...</td>\n",
       "      <td>1</td>\n",
       "      <td>0</td>\n",
       "      <td>0</td>\n",
       "      <td>0</td>\n",
       "      <td>0</td>\n",
       "      <td>1</td>\n",
       "      <td>0</td>\n",
       "      <td>0</td>\n",
       "      <td>0</td>\n",
       "      <td>0</td>\n",
       "    </tr>\n",
       "    <tr>\n",
       "      <th>1</th>\n",
       "      <td>0</td>\n",
       "      <td>29</td>\n",
       "      <td>0</td>\n",
       "      <td>0</td>\n",
       "      <td>0</td>\n",
       "      <td>0</td>\n",
       "      <td>0</td>\n",
       "      <td>0</td>\n",
       "      <td>0</td>\n",
       "      <td>0</td>\n",
       "      <td>...</td>\n",
       "      <td>1</td>\n",
       "      <td>0</td>\n",
       "      <td>0</td>\n",
       "      <td>0</td>\n",
       "      <td>0</td>\n",
       "      <td>1</td>\n",
       "      <td>0</td>\n",
       "      <td>0</td>\n",
       "      <td>0</td>\n",
       "      <td>0</td>\n",
       "    </tr>\n",
       "    <tr>\n",
       "      <th>2</th>\n",
       "      <td>0</td>\n",
       "      <td>31</td>\n",
       "      <td>0</td>\n",
       "      <td>0</td>\n",
       "      <td>0</td>\n",
       "      <td>0</td>\n",
       "      <td>0</td>\n",
       "      <td>0</td>\n",
       "      <td>0</td>\n",
       "      <td>0</td>\n",
       "      <td>...</td>\n",
       "      <td>0</td>\n",
       "      <td>1</td>\n",
       "      <td>0</td>\n",
       "      <td>0</td>\n",
       "      <td>0</td>\n",
       "      <td>0</td>\n",
       "      <td>1</td>\n",
       "      <td>0</td>\n",
       "      <td>0</td>\n",
       "      <td>0</td>\n",
       "    </tr>\n",
       "    <tr>\n",
       "      <th>3</th>\n",
       "      <td>0</td>\n",
       "      <td>22</td>\n",
       "      <td>0</td>\n",
       "      <td>0</td>\n",
       "      <td>0</td>\n",
       "      <td>0</td>\n",
       "      <td>0</td>\n",
       "      <td>0</td>\n",
       "      <td>0</td>\n",
       "      <td>0</td>\n",
       "      <td>...</td>\n",
       "      <td>0</td>\n",
       "      <td>0</td>\n",
       "      <td>0</td>\n",
       "      <td>0</td>\n",
       "      <td>0</td>\n",
       "      <td>1</td>\n",
       "      <td>0</td>\n",
       "      <td>0</td>\n",
       "      <td>0</td>\n",
       "      <td>0</td>\n",
       "    </tr>\n",
       "    <tr>\n",
       "      <th>4</th>\n",
       "      <td>0</td>\n",
       "      <td>32</td>\n",
       "      <td>0</td>\n",
       "      <td>0</td>\n",
       "      <td>0</td>\n",
       "      <td>0</td>\n",
       "      <td>0</td>\n",
       "      <td>0</td>\n",
       "      <td>0</td>\n",
       "      <td>0</td>\n",
       "      <td>...</td>\n",
       "      <td>0</td>\n",
       "      <td>0</td>\n",
       "      <td>0</td>\n",
       "      <td>0</td>\n",
       "      <td>0</td>\n",
       "      <td>1</td>\n",
       "      <td>0</td>\n",
       "      <td>0</td>\n",
       "      <td>0</td>\n",
       "      <td>0</td>\n",
       "    </tr>\n",
       "  </tbody>\n",
       "</table>\n",
       "<p>5 rows × 134 columns</p>\n",
       "</div>"
      ],
      "text/plain": [
       "   x_001  x_002  x_003  x_004  x_005  x_006  x_007  x_008  x_009  x_010  ...  \\\n",
       "0      0     32      0      0      0      0      0      0      1      1  ...   \n",
       "1      0     29      0      0      0      0      0      0      0      0  ...   \n",
       "2      0     31      0      0      0      0      0      0      0      0  ...   \n",
       "3      0     22      0      0      0      0      0      0      0      0  ...   \n",
       "4      0     32      0      0      0      0      0      0      0      0  ...   \n",
       "\n",
       "   x_027_2  x_027_3  x_027_4  x_027_5  x_033_1  x_033_2  x_033_3  x_033_4  \\\n",
       "0        1        0        0        0        0        1        0        0   \n",
       "1        1        0        0        0        0        1        0        0   \n",
       "2        0        1        0        0        0        0        1        0   \n",
       "3        0        0        0        0        0        1        0        0   \n",
       "4        0        0        0        0        0        1        0        0   \n",
       "\n",
       "   x_033_5  y  \n",
       "0        0  0  \n",
       "1        0  0  \n",
       "2        0  0  \n",
       "3        0  0  \n",
       "4        0  0  \n",
       "\n",
       "[5 rows x 134 columns]"
      ]
     },
     "execution_count": 1,
     "metadata": {},
     "output_type": "execute_result"
    }
   ],
   "source": [
    "#决策树\n",
    "from sklearn import tree\n",
    "from sklearn.model_selection import train_test_split\n",
    "import pandas as pd\n",
    "treedata= pd.read_csv(\"afterbalance.csv\",index_col=0)\n",
    "treedata.head()"
   ]
  },
  {
   "cell_type": "code",
   "execution_count": 2,
   "metadata": {},
   "outputs": [],
   "source": [
    "Xtrain, Xtest, Ytrain, Ytest = train_test_split(treedata.iloc[:,0:-1],treedata['y'],test_size=0.3)"
   ]
  },
  {
   "cell_type": "code",
   "execution_count": 3,
   "metadata": {},
   "outputs": [
    {
     "data": {
      "text/plain": [
       "(10721, 133)"
      ]
     },
     "execution_count": 3,
     "metadata": {},
     "output_type": "execute_result"
    }
   ],
   "source": [
    "Xtrain.shape"
   ]
  },
  {
   "cell_type": "code",
   "execution_count": 4,
   "metadata": {},
   "outputs": [
    {
     "data": {
      "text/plain": [
       "(4595, 133)"
      ]
     },
     "execution_count": 4,
     "metadata": {},
     "output_type": "execute_result"
    }
   ],
   "source": [
    "Xtest.shape"
   ]
  },
  {
   "cell_type": "code",
   "execution_count": 62,
   "metadata": {},
   "outputs": [
    {
     "data": {
      "text/plain": [
       "0.8069640914036996"
      ]
     },
     "execution_count": 62,
     "metadata": {},
     "output_type": "execute_result"
    }
   ],
   "source": [
    "#建立训练模型\n",
    "clf = tree.DecisionTreeClassifier(criterion=\"entropy\",random_state=20,splitter=\"random\",max_depth=10)\n",
    "clf = clf.fit(Xtrain, Ytrain)\n",
    "score = clf.score(Xtest, Ytest) #返回预测的准确度\n",
    "score"
   ]
  },
  {
   "cell_type": "code",
   "execution_count": 63,
   "metadata": {
    "scrolled": false
   },
   "outputs": [],
   "source": [
    "#画树，Q：如何树的图片尺寸变小呢？\n",
    "import graphviz\n",
    "dot_data = tree.export_graphviz(clf\n",
    "                                ,class_names=[\"0\",\"1\"]\n",
    "                                ,filled=True\n",
    "                                ,rounded=True\n",
    ")\n",
    "graph = graphviz.Source(dot_data)\n",
    "#graph"
   ]
  },
  {
   "cell_type": "code",
   "execution_count": 69,
   "metadata": {},
   "outputs": [
    {
     "data": {
      "image/png": "[encoded data removed]",
      "text/plain": [
       "<Figure size 432x288 with 1 Axes>"
      ]
     },
     "metadata": {
      "needs_background": "light"
     },
     "output_type": "display_data"
    }
   ],
   "source": [
    "#确定最优剪枝max_depth的超参数\n",
    "import matplotlib.pyplot as plt\n",
    "test = []\n",
    "for i in range(20):\n",
    "    clf = tree.DecisionTreeClassifier(max_depth=i+1\n",
    "                                        ,criterion=\"entropy\"\n",
    "                                        ,random_state=20\n",
    "                                        ,splitter=\"random\"\n",
    "    )\n",
    "    clf = clf.fit(Xtrain, Ytrain)\n",
    "    score = clf.score(Xtest, Ytest)\n",
    "    test.append(score)\n",
    "plt.plot(test,color=\"red\",label=\"max_depth\")\n",
    "plt.legend()\n",
    "plt.show()\n",
    "#所以，树深max_depth取10"
   ]
  },
  {
   "cell_type": "code",
   "execution_count": 94,
   "metadata": {},
   "outputs": [],
   "source": [
    "#交叉验证\n",
    "from sklearn.model_selection import cross_val_score\n",
    "from sklearn.linear_model import LogisticRegression"
   ]
  },
  {
   "cell_type": "code",
   "execution_count": 93,
   "metadata": {},
   "outputs": [
    {
     "name": "stdout",
     "output_type": "stream",
     "text": [
      "Cross-validation scores: [0.62989556 0.6462141  0.71801567 0.86814621 0.85835509 0.87663185\n",
      " 0.88308295 0.85630307 0.86675376 0.86218158]\n",
      "Average cross-validation score: 0.81\n"
     ]
    }
   ],
   "source": [
    "scores = cross_val_score(clf,treedata.iloc[:,0:-1],treedata['y'],cv=10)\n",
    "print(\"Cross-validation scores: {}\".format(scores))\n",
    "print(\"Average cross-validation score: {:.2f}\".format(scores.mean()))"
   ]
  },
  {
   "cell_type": "code",
   "execution_count": null,
   "metadata": {},
   "outputs": [],
   "source": [
    "#网格搜索\n",
    "from sklearn.model_selection import GridSearchCV\n",
    "#设置要搜索的参数网格\n",
    "param_grid = [{'min_samples_split': np.arange(2,100,2)\n",
    "               ,'min_samples_leaf': np.arange(2,100,2)}]\n",
    "clf1=GridSearchCV(DecisionTreeClassifier(max_depth=10\n",
    "                                        ,criterion=\"entropy\"\n",
    "                                        ,random_state=20\n",
    "                                        ,splitter=\"random\"\n",
    "    ), param_grid, cv=10)\n",
    "clf1.fit(XX,YY)\n",
    "print(\"best param:{0}\\nbest score:{1}\".format(clf1.best_params_, clf1.best_score_))"
   ]
  },
  {
   "cell_type": "code",
   "execution_count": 99,
   "metadata": {},
   "outputs": [
    {
     "name": "stdout",
     "output_type": "stream",
     "text": [
      "best param:{'min_samples_split': 46, 'min_samples_leaf': 48}\n",
      "best score:0.7856934608810132\n"
     ]
    }
   ],
   "source": [
    "#随机搜索\n",
    "from sklearn.model_selection import  RandomizedSearchCV\n",
    "params = [{'min_samples_split': np.arange(2,100,2)\n",
    "           ,'min_samples_leaf': np.arange(2,100,2)}]\n",
    "clf2=RandomizedSearchCV(DecisionTreeClassifier(max_depth=10\n",
    "                                        ,criterion=\"entropy\"\n",
    "                                        ,random_state=20\n",
    "                                        ,splitter=\"random\"\n",
    "    ), params, cv=10)\n",
    "clf2.fit(XX,YY)\n",
    "print(\"best param:{0}\\nbest score:{1}\".format(clf2.best_params_, clf2.best_score_))"
   ]
  },
  {
   "cell_type": "code",
   "execution_count": 6,
   "metadata": {},
   "outputs": [
    {
     "data": {
      "text/plain": [
       "0.816974972796518"
      ]
     },
     "execution_count": 6,
     "metadata": {},
     "output_type": "execute_result"
    }
   ],
   "source": [
    "#调参后\n",
    "clf = tree.DecisionTreeClassifier(criterion=\"entropy\",random_state=20,splitter=\"random\",max_depth=10,min_samples_split=46)\n",
    "clf = clf.fit(Xtrain,Ytrain)\n",
    "score = clf.score(Xtest,Ytest) #返回预测的准确度\n",
    "score\n",
    "#预测精度提升了一点"
   ]
  },
  {
   "cell_type": "code",
   "execution_count": 7,
   "metadata": {},
   "outputs": [
    {
     "name": "stdout",
     "output_type": "stream",
     "text": [
      "Confusion matrix:\n",
      "[[1964  326]\n",
      " [ 515 1790]]\n"
     ]
    }
   ],
   "source": [
    "#二分类评估\n",
    "from sklearn.metrics import confusion_matrix\n",
    "pred_class=clf.predict(Xtest)\n",
    "confusion = confusion_matrix(Ytest, pred_class)\n",
    "print(\"Confusion matrix:\\n{}\".format(confusion))"
   ]
  },
  {
   "cell_type": "code",
   "execution_count": 12,
   "metadata": {},
   "outputs": [
    {
     "name": "stdout",
     "output_type": "stream",
     "text": [
      "              precision    recall  f1-score   support\n",
      "\n",
      "           0       0.79      0.86      0.82      2290\n",
      "           1       0.85      0.78      0.81      2305\n",
      "\n",
      "    accuracy                           0.82      4595\n",
      "   macro avg       0.82      0.82      0.82      4595\n",
      "weighted avg       0.82      0.82      0.82      4595\n",
      "\n"
     ]
    }
   ],
   "source": [
    "from sklearn.metrics import classification_report\n",
    "print(classification_report(Ytest, pred_class))"
   ]
  },
  {
   "cell_type": "code",
   "execution_count": 17,
   "metadata": {},
   "outputs": [
    {
     "data": {
      "text/plain": [
       "Text(0, 0.5, 'Recall')"
      ]
     },
     "execution_count": 17,
     "metadata": {},
     "output_type": "execute_result"
    },
    {
     "data": {
      "image/png": "[encoded data removed]",
      "text/plain": [
       "<Figure size 432x288 with 1 Axes>"
      ]
     },
     "metadata": {
      "needs_background": "light"
     },
     "output_type": "display_data"
    }
   ],
   "source": [
    "#precision_recall曲线\n",
    "from sklearn.metrics import precision_recall_curve\n",
    "precision, recall, thresholds = precision_recall_curve(Ytest,pred_class)\n",
    "close_zero = np.argmin(np.abs(thresholds))\n",
    "plt.plot(precision[close_zero], recall[close_zero], 'o', markersize=10,\n",
    "label=\"threshold zero\", fillstyle=\"none\", c='k', mew=2)\n",
    "plt.plot(precision, recall, label=\"precision recall curve\")\n",
    "plt.xlabel(\"Precision\")\n",
    "plt.ylabel(\"Recall\")"
   ]
  },
  {
   "cell_type": "code",
   "execution_count": 18,
   "metadata": {},
   "outputs": [
    {
     "data": {
      "text/plain": [
       "<matplotlib.legend.Legend at 0x16fe5a979e8>"
      ]
     },
     "execution_count": 18,
     "metadata": {},
     "output_type": "execute_result"
    },
    {
     "data": {
      "image/png": "[encoded data removed]",
      "text/plain": [
       "<Figure size 432x288 with 1 Axes>"
      ]
     },
     "metadata": {
      "needs_background": "light"
     },
     "output_type": "display_data"
    }
   ],
   "source": [
    "#ROC曲线\n",
    "from sklearn.metrics import roc_curve\n",
    "fpr, tpr, thresholds = roc_curve(Ytest,pred_class)\n",
    "plt.plot(fpr, tpr, label=\"ROC Curve\")\n",
    "plt.xlabel(\"FPR\")\n",
    "plt.ylabel(\"TPR (recall)\")\n",
    "# 找到最接近于0的阈值\n",
    "close_zero = np.argmin(np.abs(thresholds))\n",
    "plt.plot(fpr[close_zero], tpr[close_zero], 'o', markersize=10,\n",
    "label=\"threshold zero\", fillstyle=\"none\", c='k', mew=2)\n",
    "plt.legend(loc=4)"
   ]
  },
  {
   "cell_type": "code",
   "execution_count": null,
   "metadata": {},
   "outputs": [],
   "source": []
  }
 ],
 "metadata": {
  "kernelspec": {
   "display_name": "Python 3",
   "language": "python",
   "name": "python3"
  },
  "language_info": {
   "codemirror_mode": {
    "name": "ipython",
    "version": 3
   },
   "file_extension": ".py",
   "mimetype": "text/x-python",
   "name": "python",
   "nbconvert_exporter": "python",
   "pygments_lexer": "ipython3",
   "version": "3.7.3"
  },
  "toc": {
   "base_numbering": 1,
   "nav_menu": {},
   "number_sections": true,
   "sideBar": true,
   "skip_h1_title": false,
   "title_cell": "Table of Contents",
   "title_sidebar": "Contents",
   "toc_cell": false,
   "toc_position": {},
   "toc_section_display": true,
   "toc_window_display": false
  }
 },
 "nbformat": 4,
 "nbformat_minor": 2
}
