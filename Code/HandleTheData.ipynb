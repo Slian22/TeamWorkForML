{
 "cells": [
  {
   "cell_type": "code",
   "execution_count": 3,
   "metadata": {
    "pycharm": {
     "name": "#%%\n",
     "is_executing": false
    }
   },
   "outputs": [],
   "source": [
    "from QuickInit import *\n",
    "import numpy as np\n",
    "import pandas as pd"
   ]
  },
  {
   "cell_type": "code",
   "execution_count": 32,
   "metadata": {
    "pycharm": {
     "name": "#%%\n",
     "is_executing": false
    }
   },
   "outputs": [
    {
     "name": "stdout",
     "text": [
      "sample/model_sample_SMOTE.csv\n",
      "[[32.  0.  0. ...  2.  2.  0.]\n",
      " [29.  0.  0. ...  0.  0.  0.]\n",
      " [31.  0.  0. ... 10. 10.  0.]\n",
      " ...\n",
      " [28.  0.  0. ...  0.  0.  0.]\n",
      " [23.  0.  0. ...  7.  1.  0.]\n",
      " [35.  0.  0. ...  1.  1.  1.]]\n"
     ],
     "output_type": "stream"
    }
   ],
   "source": [
    "#One Hot Encode\n",
    "from sklearn.preprocessing import OneHotEncoder\n",
    "Sample_data_Pandas=FillNaN_PD('sample/model_sample_SMOTE.csv')\n",
    "Sample_data_Numpy=FillNaN_NP('sample/model_sample_SMOTE.csv')\n",
    "enc_data=OneHotEncoder()\n",
    "ans=enc_data.fit_transform(Sample_data_Numpy)\n",
    "print(Sample_data_Numpy)\n",
    "dateframe=pd.DataFrame(Sample_data_Numpy)\n",
    "dateframe.to_csv('sample/model_sample_OneHotEncode.csv')"
   ]
  },
  {
   "cell_type": "code",
   "execution_count": null,
   "metadata": {
    "pycharm": {
     "name": "#%%\n"
    }
   },
   "outputs": [],
   "source": [
    "#数值\n",
    "from sklearn.preprocessing import MinMaxScaler\n",
    "scaler=MinMaxScaler()\n",
    "scaler=scaler.fit(Sample_data_Pandas)\n",
    "result=scaler.transform(Sample_data_Pandas)\n",
    "print(result)\n"
   ]
  },
  {
   "cell_type": "code",
   "execution_count": null,
   "metadata": {
    "pycharm": {
     "name": "#%%\n"
    }
   },
   "outputs": [],
   "source": [
    "#StandarLize The Data\n",
    "from sklearn.preprocessing import StandardScaler\n",
    "result_=scaler.inverse_transform(result)\n",
    "scaler_2=StandardScaler()\n",
    "scaler_2.fit(Sample_data_Pandas)\n",
    "print(scaler_2)\n",
    "x_std=scaler_2.transform(result_)\n",
    "print(result_)"
   ]
  },
  {
   "cell_type": "code",
   "execution_count": null,
   "outputs": [],
   "source": [
    "#\n",
    "from QuickInit import *\n",
    "Sample_RandomSearch('sample\\model_sample_SMOTE.csv')"
   ],
   "metadata": {
    "collapsed": false,
    "pycharm": {
     "name": "#%%1个\n",
     "is_executing": true
    }
   }
  }
 ],
 "metadata": {
  "kernelspec": {
   "display_name": "Python 3",
   "language": "python",
   "name": "python3"
  },
  "language_info": {
   "codemirror_mode": {
    "name": "ipython",
    "version": 3
   },
   "file_extension": ".py",
   "mimetype": "text/x-python",
   "name": "python",
   "nbconvert_exporter": "python",
   "pygments_lexer": "ipython3",
   "version": "3.8.2"
  },
  "pycharm": {
   "stem_cell": {
    "cell_type": "raw",
    "source": [],
    "metadata": {
     "collapsed": false
    }
   }
  }
 },
 "nbformat": 4,
 "nbformat_minor": 1
}