{
 "cells": [
  {
   "cell_type": "code",
   "execution_count": 22,
   "metadata": {
    "collapsed": true,
    "pycharm": {
     "is_executing": false
    }
   },
   "outputs": [
    {
     "name": "stdout",
     "text": [
      "[[0 0.0 32.0 ... 2.0 2.0 2.0]\n",
      " [0 0.0 29.0 ... nan nan nan]\n",
      " [0 0.0 31.0 ... 6.0 10.0 10.0]\n",
      " ...\n",
      " [0 0.0 28.0 ... 0.0 0.0 0.0]\n",
      " [0 0.0 23.0 ... 1.0 7.0 1.0]\n",
      " [1 0.0 35.0 ... 1.0 1.0 1.0]]\n"
     ],
     "output_type": "stream"
    }
   ],
   "source": [
    "import numpy as np\n",
    "import pandas as pd\n",
    "import os\n",
    "# Fill The Data using SimpleImputer\n",
    "from sklearn.impute import SimpleImputer\n",
    "df= pd.read_csv('sample/model_sample.csv',header=0)\n",
    "numpy_Data=np.array(df)\n",
    "imp=SimpleImputer(missing_values=np.nan,strategy='mean')\n",
    "Sample_data=np.delete(numpy_Data,0,axis=1)\n",
    "imp.fit(Sample_data)\n",
    "print(Sample_data)"
   ]
  },
  {
   "cell_type": "code",
   "execution_count": 29,
   "outputs": [
    {
     "name": "stdout",
     "text": [
      "[[ 0.  0. 32. ...  2.  2.  2.]\n",
      " [ 0.  0. 29. ...  0.  0.  0.]\n",
      " [ 0.  0. 31. ...  6. 10. 10.]\n",
      " ...\n",
      " [ 0.  0. 28. ...  0.  0.  0.]\n",
      " [ 0.  0. 23. ...  1.  7.  1.]\n",
      " [ 1.  0. 35. ...  1.  1.  1.]]\n",
      "  (0, 0)\t1.0\n",
      "  (0, 2)\t1.0\n",
      "  (0, 18)\t1.0\n",
      "  (0, 46)\t1.0\n",
      "  (0, 48)\t1.0\n",
      "  (0, 50)\t1.0\n",
      "  (0, 52)\t1.0\n",
      "  (0, 54)\t1.0\n",
      "  (0, 56)\t1.0\n",
      "  (0, 59)\t1.0\n",
      "  (0, 61)\t1.0\n",
      "  (0, 62)\t1.0\n",
      "  (0, 64)\t1.0\n",
      "  (0, 65)\t1.0\n",
      "  (0, 68)\t1.0\n",
      "  (0, 69)\t1.0\n",
      "  (0, 71)\t1.0\n",
      "  (0, 73)\t1.0\n",
      "  (0, 76)\t1.0\n",
      "  (0, 77)\t1.0\n",
      "  (0, 83)\t1.0\n",
      "  (0, 106)\t1.0\n",
      "  (0, 125)\t1.0\n",
      "  (0, 129)\t1.0\n",
      "  (0, 133)\t1.0\n",
      "  :\t:\n",
      "  (11016, 156163)\t1.0\n",
      "  (11016, 156179)\t1.0\n",
      "  (11016, 156192)\t1.0\n",
      "  (11016, 156204)\t1.0\n",
      "  (11016, 156217)\t1.0\n",
      "  (11016, 156523)\t1.0\n",
      "  (11016, 156592)\t1.0\n",
      "  (11016, 156887)\t1.0\n",
      "  (11016, 157067)\t1.0\n",
      "  (11016, 157353)\t1.0\n",
      "  (11016, 158166)\t1.0\n",
      "  (11016, 164665)\t1.0\n",
      "  (11016, 169837)\t1.0\n",
      "  (11016, 170596)\t1.0\n",
      "  (11016, 170611)\t1.0\n",
      "  (11016, 170625)\t1.0\n",
      "  (11016, 170658)\t1.0\n",
      "  (11016, 170689)\t1.0\n",
      "  (11016, 170713)\t1.0\n",
      "  (11016, 170735)\t1.0\n",
      "  (11016, 170789)\t1.0\n",
      "  (11016, 170838)\t1.0\n",
      "  (11016, 170868)\t1.0\n",
      "  (11016, 170898)\t1.0\n",
      "  (11016, 170976)\t1.0\n"
     ],
     "output_type": "stream"
    }
   ],
   "source": [
    "#One Hot Encode\n",
    "from sklearn.preprocessing import OneHotEncoder\n",
    "Sample_data_Pandas=pd.DataFrame(Sample_data)\n",
    "Sample_data_Pandas.fillna(0,inplace = True)\n",
    "Sample_data_Numpy=np.array(Sample_data_Pandas)\n",
    "enc_data=OneHotEncoder()\n",
    "print(Sample_data_Numpy)\n",
    "ans=enc_data.fit_transform(Sample_data_Numpy)\n",
    "print(ans)"
   ],
   "metadata": {
    "collapsed": false,
    "pycharm": {
     "name": "#%%\n",
     "is_executing": false
    }
   }
  },
  {
   "cell_type": "code",
   "execution_count": 30,
   "outputs": [
    {
     "name": "stdout",
     "text": [
      "[[1. 0. 1. 0. 0. 0. 0. 0. 1.]\n",
      " [0. 1. 0. 1. 0. 1. 0. 0. 0.]\n",
      " [1. 0. 0. 0. 1. 0. 1. 0. 0.]\n",
      " [0. 1. 1. 0. 0. 0. 0. 1. 0.]]\n"
     ],
     "output_type": "stream"
    }
   ],
   "source": [],
   "metadata": {
    "collapsed": false,
    "pycharm": {
     "name": "#%%\n",
     "is_executing": false
    }
   }
  }
 ],
 "metadata": {
  "kernelspec": {
   "display_name": "Python 3",
   "language": "python",
   "name": "python3"
  },
  "language_info": {
   "codemirror_mode": {
    "name": "ipython",
    "version": 2
   },
   "file_extension": ".py",
   "mimetype": "text/x-python",
   "name": "python",
   "nbconvert_exporter": "python",
   "pygments_lexer": "ipython2",
   "version": "2.7.6"
  },
  "pycharm": {
   "stem_cell": {
    "cell_type": "raw",
    "source": [],
    "metadata": {
     "collapsed": false
    }
   }
  }
 },
 "nbformat": 4,
 "nbformat_minor": 0
}