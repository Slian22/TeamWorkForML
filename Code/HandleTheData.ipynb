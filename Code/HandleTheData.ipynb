{
 "cells": [
  {
   "cell_type": "code",
   "execution_count": 22,
   "metadata": {
    "collapsed": true,
    "pycharm": {
     "is_executing": false
    }
   },
   "outputs": [
    {
     "name": "stdout",
     "text": [
      "[[0 0.0 32.0 ... 2.0 2.0 2.0]\n",
      " [0 0.0 29.0 ... nan nan nan]\n",
      " [0 0.0 31.0 ... 6.0 10.0 10.0]\n",
      " ...\n",
      " [0 0.0 28.0 ... 0.0 0.0 0.0]\n",
      " [0 0.0 23.0 ... 1.0 7.0 1.0]\n",
      " [1 0.0 35.0 ... 1.0 1.0 1.0]]\n"
     ],
     "output_type": "stream"
    }
   ],
   "source": [
    "import numpy as np\n",
    "import pandas as pd\n",
    "import os\n",
    "# Fill The Data using SimpleImputer\n",
    "from sklearn.impute import SimpleImputer\n",
    "df= pd.read_csv('sample/model_sample.csv',header=0)\n",
    "numpy_Data=np.array(df)\n",
    "imp=SimpleImputer(missing_values=np.nan,strategy='mean')\n",
    "Sample_data=np.delete(numpy_Data,0,axis=1)\n",
    "imp.fit(Sample_data)\n",
    "print(Sample_data)"
   ]
  },
  {
   "cell_type": "code",
   "execution_count": 24,
   "outputs": [
    {
     "name": "stdout",
     "text": [
      "       0    1     2    3    4    5    6    7    8    9    ...  190  191  192  \\\n",
      "0        0  0.0  32.0    0    0    0    0    0    0    1  ...  1.0  1.0  2.0   \n",
      "1        0  0.0  29.0    0    0    0    0    0    0    0  ...  0.0  0.0  0.0   \n",
      "2        0  0.0  31.0    0    0    0    0    0    0    0  ...  2.0  2.0  4.0   \n",
      "3        0  0.0  22.0    0    0    0    0    0    0    0  ...  3.0  3.0  3.0   \n",
      "4        0  0.0  31.0    0    0    0    0    0    0    0  ...  0.0  0.0  0.0   \n",
      "...    ...  ...   ...  ...  ...  ...  ...  ...  ...  ...  ...  ...  ...  ...   \n",
      "11012    0  0.0  29.0    0    0    0    0    0    0    0  ...  0.0  0.0  0.0   \n",
      "11013    1  0.0  25.0    0    0    0    0    0    0    0  ...  3.0  3.0  3.0   \n",
      "11014    0  0.0  28.0    0    0    0    0    0    0    0  ...  0.0  0.0  0.0   \n",
      "11015    0  0.0  23.0    0    0    0    0    0    0    0  ...  1.0  0.0  3.0   \n",
      "11016    1  0.0  35.0    0    0    0    0    0    0    0  ...  1.0  1.0  1.0   \n",
      "\n",
      "       193  194  195  196  197   198   199  \n",
      "0      2.0  2.0  2.0  2.0  2.0   2.0   2.0  \n",
      "1      0.0  0.0  0.0  0.0  0.0   0.0   0.0  \n",
      "2      4.0  6.0  6.0  6.0  6.0  10.0  10.0  \n",
      "3      3.0  5.0  5.0  3.0  3.0   7.0   7.0  \n",
      "4      0.0  0.0  0.0  0.0  0.0   0.0   0.0  \n",
      "...    ...  ...  ...  ...  ...   ...   ...  \n",
      "11012  0.0  0.0  0.0  0.0  0.0   0.0   0.0  \n",
      "11013  3.0  5.0  5.0  4.0  4.0   7.0   7.0  \n",
      "11014  0.0  0.0  0.0  0.0  0.0   0.0   0.0  \n",
      "11015  1.0  5.0  1.0  3.0  1.0   7.0   1.0  \n",
      "11016  1.0  1.0  1.0  1.0  1.0   1.0   1.0  \n",
      "\n",
      "[11017 rows x 200 columns]\n",
      "OneHotEncoder(categories='auto', drop=None, dtype=<class 'numpy.float64'>,\n",
      "              handle_unknown='error', sparse=True)\n"
     ],
     "output_type": "stream"
    }
   ],
   "source": [
    "#One Hot Encode\n",
    "from sklearn.preprocessing import OneHotEncoder\n",
    "Sample_data_Pandas=pd.DataFrame(Sample_data)\n",
    "Sample_data_Pandas.fillna(0,inplace = True)\n",
    "#print(Sample_data_Pandas)\n",
    "Sample_data_Numpy=np.array(Sample_data_Pandas)\n",
    "enc_data=OneHotEncoder()\n",
    "enc_data.fit_transform(Sample_data_Numpy)\n",
    "#print(enc_data)"
   ],
   "metadata": {
    "collapsed": false,
    "pycharm": {
     "name": "#%%\n",
     "is_executing": false
    }
   }
  }
 ],
 "metadata": {
  "kernelspec": {
   "display_name": "Python 3",
   "language": "python",
   "name": "python3"
  },
  "language_info": {
   "codemirror_mode": {
    "name": "ipython",
    "version": 2
   },
   "file_extension": ".py",
   "mimetype": "text/x-python",
   "name": "python",
   "nbconvert_exporter": "python",
   "pygments_lexer": "ipython2",
   "version": "2.7.6"
  },
  "pycharm": {
   "stem_cell": {
    "cell_type": "raw",
    "source": [],
    "metadata": {
     "collapsed": false
    }
   }
  }
 },
 "nbformat": 4,
 "nbformat_minor": 0
}