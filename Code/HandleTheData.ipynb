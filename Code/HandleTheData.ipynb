{
 "cells": [
  {
   "cell_type": "code",
   "execution_count": 17,
   "metadata": {
    "pycharm": {
     "name": "#%%\n",
     "is_executing": false
    }
   },
   "outputs": [],
   "source": [
    "from QuickInit import *\n",
    "import numpy as np\n",
    "import pandas as pd"
   ]
  },
  {
   "cell_type": "code",
   "execution_count": null,
   "metadata": {
    "pycharm": {
     "name": "#%%\n"
    }
   },
   "outputs": [],
   "source": [
    "#One Hot Encode\n",
    "from sklearn.preprocessing import OneHotEncoder\n",
    "Sample_data_Pandas=FillNaN_PD()\n",
    "print(Sample_data_Pandas)\n",
    "Sample_data_Numpy=FillNaN_NP()\n",
    "enc_data=OneHotEncoder()\n",
    "ans=enc_data.fit_transform(Sample_data_Numpy)\n",
    "print(Sample_data_Numpy)"
   ]
  },
  {
   "cell_type": "code",
   "execution_count": null,
   "metadata": {
    "pycharm": {
     "name": "#%%\n"
    }
   },
   "outputs": [],
   "source": [
    "#数值\n",
    "from sklearn.preprocessing import MinMaxScaler\n",
    "scaler=MinMaxScaler()\n",
    "scaler=scaler.fit(Sample_data_Pandas)\n",
    "result=scaler.transform(Sample_data_Pandas)\n",
    "print(result)\n"
   ]
  },
  {
   "cell_type": "code",
   "execution_count": null,
   "metadata": {
    "pycharm": {
     "name": "#%%\n"
    }
   },
   "outputs": [],
   "source": [
    "#StandarLize The Data\n",
    "from sklearn.preprocessing import StandardScaler\n",
    "result_=scaler.inverse_transform(result)\n",
    "scaler_2=StandardScaler()\n",
    "scaler_2.fit(Sample_data_Pandas)\n",
    "print(scaler_2)\n",
    "x_std=scaler_2.transform(result_)\n",
    "print(result_)"
   ]
  },
  {
   "cell_type": "code",
   "execution_count": 20,
   "metadata": {
    "pycharm": {
     "is_executing": false,
     "name": "#%%\n"
    }
   },
   "outputs": [
    {
     "name": "stdout",
     "text": [
      "[['A00002' 0 0.0 ... 2.0 2.0 2.0]\n",
      " ['A00005' 0 0.0 ... nan nan nan]\n",
      " ['A00005' 0 0.0 ... nan nan nan]\n",
      " ...\n",
      " ['A04843' 0 0.0 ... 4.0 7.0 7.0]\n",
      " ['A13814' 0 1.0 ... 10.0 12.0 12.0]\n",
      " ['A02140' 0 0.0 ... 10.0 18.0 18.0]]\n",
      "\n",
      "[['A07801' 0 0.0 ... 3.0 5.0 5.0]\n",
      " ['A15175' 0 1.0 ... 2.0 2.0 2.0]\n",
      " ['A14368' 1 0.0 ... 9.0 17.0 17.0]\n",
      " ...\n",
      " ['A08257' 0 0.0 ... 5.0 10.0 10.0]\n",
      " ['A10822' 0 0.0 ... 5.0 7.0 7.0]\n",
      " ['A09689' 0 0.0 ... 5.0 7.0 7.0]]\n"
     ],
     "output_type": "stream"
    }
   ],
   "source": [
    "import pandas as pd\n",
    "import os\n",
    "inputfile='sample/model_sample.csv'\n",
    "p=0.8\n",
    "df=pd.read_csv(inputfile)\n",
    "data=df.values\n",
    "from random import shuffle\n",
    "shuffle(data)\n",
    "train=data[:int(len(data)*p),:]\n",
    "test = data[int(len(data)*p):,:]\n",
    "print(train)\n",
    "print()\n",
    "print(test)"
   ]
  }
 ],
 "metadata": {
  "kernelspec": {
   "display_name": "Python 3",
   "language": "python",
   "name": "python3"
  },
  "language_info": {
   "codemirror_mode": {
    "name": "ipython",
    "version": 3
   },
   "file_extension": ".py",
   "mimetype": "text/x-python",
   "name": "python",
   "nbconvert_exporter": "python",
   "pygments_lexer": "ipython3",
   "version": "3.8.2"
  },
  "pycharm": {
   "stem_cell": {
    "cell_type": "raw",
    "source": [],
    "metadata": {
     "collapsed": false
    }
   }
  }
 },
 "nbformat": 4,
 "nbformat_minor": 1
}